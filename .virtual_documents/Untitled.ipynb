a,b= map(input().split())
print(f"gia tri ban dau cua a: {a}; b: {b}")


m=float(input())
n=float(input())
a=m//n
print(a)



string="ydguadfgviseu"
string2="hvwfufeuhfbfhvei"
len(string),len(string2)


max(1,2,3,4)


ar=(1,2,3,4,5,6)
max(ar)



